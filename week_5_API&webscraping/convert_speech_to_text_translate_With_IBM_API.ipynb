{
 "cells": [
  {
   "cell_type": "markdown",
   "metadata": {},
   "source": [
    "<center>\n",
    "    <img src=\"https://cf-courses-data.s3.us.cloud-object-storage.appdomain.cloud/IBMDeveloperSkillsNetwork-PY0101EN-SkillsNetwork/IDSNlogo.png\" width=\"300\" alt=\"cognitiveclass.ai logo\"  />\n",
    "</center>\n",
    "\n",
    "# Watson Speech to Text Translator\n",
    "\n",
    "Estimated time needed: **25** minutes\n",
    "\n",
    "## Objectives\n",
    "\n",
    "After completing this lab you will be able to:\n",
    "\n",
    "*   Operate a Speech to Text Translator through an API\n"
   ]
  },
  {
   "cell_type": "markdown",
   "metadata": {},
   "source": [
    "### Introduction\n",
    "\n",
    "<p>In this notebook, you will learn to convert an audio file of an English speaker to text using a Speech to Text API. Then, you will translate the English version to a Spanish version using a Language Translator API. <b>Note:</b> You must obtain the API keys and endpoints to complete the lab.</p>\n"
   ]
  },
  {
   "cell_type": "markdown",
   "metadata": {},
   "source": [
    "<div class=\"alert alert-block alert-info\" style=\"margin-top: 20px\">\n",
    "<h2>Table of Contents</h2>\n",
    "<ul>\n",
    "    <li><a href=\"https://#ref0\">Speech To Text</a></li>\n",
    "    <li><a href=\"https://#ref1\">Language Translator</a></li>\n",
    "    <li><a href=\"https://#ref2\">Exercise</a></li>\n",
    "</ul>\n",
    "</div>\n"
   ]
  },
  {
   "cell_type": "code",
   "execution_count": 1,
   "metadata": {
    "jupyter": {
     "outputs_hidden": false
    }
   },
   "outputs": [
    {
     "name": "stdout",
     "output_type": "stream",
     "text": [
      "Requirement already satisfied: ibm_watson in c:\\users\\abdul\\anaconda3\\lib\\site-packages (6.0.0)\n",
      "Requirement already satisfied: wget in c:\\users\\abdul\\anaconda3\\lib\\site-packages (3.2)\n",
      "Requirement already satisfied: ibm-cloud-sdk-core==3.*,>=3.3.6 in c:\\users\\abdul\\anaconda3\\lib\\site-packages (from ibm_watson) (3.15.1)\n",
      "Requirement already satisfied: requests<3.0,>=2.0 in c:\\users\\abdul\\anaconda3\\lib\\site-packages (from ibm_watson) (2.26.0)\n",
      "Requirement already satisfied: websocket-client==1.1.0 in c:\\users\\abdul\\anaconda3\\lib\\site-packages (from ibm_watson) (1.1.0)\n",
      "Requirement already satisfied: python-dateutil>=2.5.3 in c:\\users\\abdul\\anaconda3\\lib\\site-packages (from ibm_watson) (2.8.2)\n",
      "Requirement already satisfied: PyJWT<3.0.0,>=2.0.1 in c:\\users\\abdul\\anaconda3\\lib\\site-packages (from ibm-cloud-sdk-core==3.*,>=3.3.6->ibm_watson) (2.1.0)\n",
      "Requirement already satisfied: urllib3<2.0.0,>=1.26.0 in c:\\users\\abdul\\anaconda3\\lib\\site-packages (from ibm-cloud-sdk-core==3.*,>=3.3.6->ibm_watson) (1.26.9)\n",
      "Requirement already satisfied: six>=1.5 in c:\\users\\abdul\\anaconda3\\lib\\site-packages (from python-dateutil>=2.5.3->ibm_watson) (1.16.0)\n",
      "Requirement already satisfied: charset-normalizer~=2.0.0 in c:\\users\\abdul\\anaconda3\\lib\\site-packages (from requests<3.0,>=2.0->ibm_watson) (2.0.4)\n",
      "Requirement already satisfied: certifi>=2017.4.17 in c:\\users\\abdul\\anaconda3\\lib\\site-packages (from requests<3.0,>=2.0->ibm_watson) (2022.5.18.1)\n",
      "Requirement already satisfied: idna<4,>=2.5 in c:\\users\\abdul\\anaconda3\\lib\\site-packages (from requests<3.0,>=2.0->ibm_watson) (3.3)\n"
     ]
    }
   ],
   "source": [
    "#you will need the following library \n",
    "!pip install ibm_watson wget"
   ]
  },
  {
   "cell_type": "markdown",
   "metadata": {},
   "source": [
    "<h2 id=\"ref0\">Speech to Text</h2>\n"
   ]
  },
  {
   "cell_type": "markdown",
   "metadata": {},
   "source": [
    "<p>First we import <code>SpeechToTextV1</code> from <code>ibm_watson</code>. For more information on the API, please click on this <a href=\"https://cloud.ibm.com/apidocs/speech-to-text?utm_medium=Exinfluencer&utm_source=Exinfluencer&utm_content=000026UJ&utm_term=10006555&utm_id=NA-SkillsNetwork-Channel-SkillsNetworkCoursesIBMDeveloperSkillsNetworkPY0101ENSkillsNetwork19487395-2022-01-01&code=python\">link</a>.</p>\n"
   ]
  },
  {
   "cell_type": "code",
   "execution_count": 2,
   "metadata": {
    "jupyter": {
     "outputs_hidden": false
    }
   },
   "outputs": [],
   "source": [
    "from ibm_watson import SpeechToTextV1\n",
    "from ibm_cloud_sdk_core.authenticators import IAMAuthenticator \n",
    "import json"
   ]
  },
  {
   "cell_type": "markdown",
   "metadata": {},
   "source": [
    "<p>The service endpoint is based on the location of the service instance, we store the information in the variable URL. To find out which URL to use, view the service credentials and paste the url here.</p>\n"
   ]
  },
  {
   "cell_type": "code",
   "execution_count": 3,
   "metadata": {},
   "outputs": [],
   "source": [
    "url_s2t = \"\""
   ]
  },
  {
   "cell_type": "markdown",
   "metadata": {},
   "source": [
    "<p>You require an API key, and you can obtain the key on the <a href=\"https://cloud.ibm.com/resources?utm_medium=Exinfluencer&utm_source=Exinfluencer&utm_content=000026UJ&utm_term=10006555&utm_id=NA-SkillsNetwork-Channel-SkillsNetworkCoursesIBMDeveloperSkillsNetworkPY0101ENSkillsNetwork19487395-2022-01-01\">Dashboard </a>.</p>\n"
   ]
  },
  {
   "cell_type": "code",
   "execution_count": 4,
   "metadata": {
    "jupyter": {
     "outputs_hidden": false
    }
   },
   "outputs": [],
   "source": [
    "iam_apikey_s2t = \"\""
   ]
  },
  {
   "cell_type": "markdown",
   "metadata": {},
   "source": [
    "<p>You create a <a href=\"http://watson-developer-cloud.github.io/python-sdk/v0.25.0/apis/watson_developer_cloud.speech_to_text_v1.html?utm_medium=Exinfluencer&utm_source=Exinfluencer&utm_content=000026UJ&utm_term=10006555&utm_id=NA-SkillsNetwork-Channel-SkillsNetworkCoursesIBMDeveloperSkillsNetworkPY0101ENSkillsNetwork19487395-2022-01-01\">Speech To Text Adapter object</a> the parameters are the endpoint and API key.</p>\n"
   ]
  },
  {
   "cell_type": "code",
   "execution_count": 5,
   "metadata": {},
   "outputs": [
    {
     "data": {
      "text/plain": [
       "<ibm_watson.speech_to_text_v1_adapter.SpeechToTextV1Adapter at 0x1a60336a5b0>"
      ]
     },
     "execution_count": 5,
     "metadata": {},
     "output_type": "execute_result"
    }
   ],
   "source": [
    "authenticator = IAMAuthenticator(iam_apikey_s2t)\n",
    "s2t = SpeechToTextV1(authenticator=authenticator)\n",
    "s2t.set_service_url(url_s2t)\n",
    "s2t"
   ]
  },
  {
   "cell_type": "markdown",
   "metadata": {},
   "source": [
    "<p>Lets download the audio file that we will use to convert into text.</p>\n"
   ]
  },
  {
   "cell_type": "code",
   "execution_count": 29,
   "metadata": {},
   "outputs": [
    {
     "name": "stderr",
     "output_type": "stream",
     "text": [
      "  % Total    % Received % Xferd  Average Speed   Time    Time     Time  Current\n",
      "                                 Dload  Upload   Total   Spent    Left  Speed\n",
      "\n",
      "  0     0    0     0    0     0      0      0 --:--:-- --:--:-- --:--:--     0\n",
      "  0     0    0     0    0     0      0      0 --:--:-- --:--:-- --:--:--     0\n",
      "  0     0    0     0    0     0      0      0 --:--:--  0:00:01 --:--:--     0\n",
      "  3 4134k    3  138k    0     0  70299      0  0:01:00  0:00:02  0:00:58 70349\n",
      " 13 4134k   13  544k    0     0   177k      0  0:00:23  0:00:03  0:00:20  177k\n",
      " 43 4134k   43 1792k    0     0   421k      0  0:00:09  0:00:04  0:00:05  421k\n",
      " 77 4134k   77 3216k    0     0   625k      0  0:00:06  0:00:05  0:00:01  627k\n",
      " 95 4134k   95 3936k    0     0   649k      0  0:00:06  0:00:06 --:--:--  852k\n",
      "100 4134k  100 4134k    0     0   591k      0  0:00:06  0:00:06 --:--:--  802k\n"
     ]
    }
   ],
   "source": [
    "#  !wget PolynomialRegressionandPipelines.mp3\n",
    "\n",
    "!curl -O  https://cf-courses-data.s3.us.cloud-object-storage.appdomain.cloud/IBMDeveloperSkillsNetwork-PY0101EN-SkillsNetwork/labs/Module%205/data/PolynomialRegressionandPipelines.mp3\n",
    "\n"
   ]
  },
  {
   "cell_type": "markdown",
   "metadata": {},
   "source": [
    "<p>We have the path of the .wav file we would like to convert to text</p>\n"
   ]
  },
  {
   "cell_type": "code",
   "execution_count": 117,
   "metadata": {},
   "outputs": [
    {
     "name": "stdout",
     "output_type": "stream",
     "text": [
      "Requirement already satisfied: moviepy in c:\\users\\abdul\\anaconda3\\lib\\site-packages (1.0.3)\n",
      "Requirement already satisfied: imageio-ffmpeg>=0.2.0 in c:\\users\\abdul\\anaconda3\\lib\\site-packages (from moviepy) (0.4.7)\n",
      "Requirement already satisfied: tqdm<5.0,>=4.11.2 in c:\\users\\abdul\\anaconda3\\lib\\site-packages (from moviepy) (4.64.0)\n",
      "Requirement already satisfied: imageio<3.0,>=2.5 in c:\\users\\abdul\\anaconda3\\lib\\site-packages (from moviepy) (2.9.0)\n",
      "Requirement already satisfied: decorator<5.0,>=4.0.2 in c:\\users\\abdul\\anaconda3\\lib\\site-packages (from moviepy) (4.4.2)\n",
      "Requirement already satisfied: numpy>=1.17.3 in c:\\users\\abdul\\anaconda3\\lib\\site-packages (from moviepy) (1.22.3)\n",
      "Requirement already satisfied: requests<3.0,>=2.8.1 in c:\\users\\abdul\\anaconda3\\lib\\site-packages (from moviepy) (2.26.0)\n",
      "Requirement already satisfied: proglog<=1.0.0 in c:\\users\\abdul\\anaconda3\\lib\\site-packages (from moviepy) (0.1.10)\n",
      "Requirement already satisfied: pillow in c:\\users\\abdul\\anaconda3\\lib\\site-packages (from imageio<3.0,>=2.5->moviepy) (9.0.1)\n",
      "Requirement already satisfied: urllib3<1.27,>=1.21.1 in c:\\users\\abdul\\anaconda3\\lib\\site-packages (from requests<3.0,>=2.8.1->moviepy) (1.26.9)\n",
      "Requirement already satisfied: idna<4,>=2.5 in c:\\users\\abdul\\anaconda3\\lib\\site-packages (from requests<3.0,>=2.8.1->moviepy) (3.3)\n",
      "Requirement already satisfied: charset-normalizer~=2.0.0 in c:\\users\\abdul\\anaconda3\\lib\\site-packages (from requests<3.0,>=2.8.1->moviepy) (2.0.4)\n",
      "Requirement already satisfied: certifi>=2017.4.17 in c:\\users\\abdul\\anaconda3\\lib\\site-packages (from requests<3.0,>=2.8.1->moviepy) (2022.5.18.1)\n",
      "Requirement already satisfied: colorama in c:\\users\\abdul\\anaconda3\\lib\\site-packages (from tqdm<5.0,>=4.11.2->moviepy) (0.4.4)\n",
      "MoviePy - Writing audio in video_2.mp3\n"
     ]
    },
    {
     "name": "stderr",
     "output_type": "stream",
     "text": [
      "                                                                                                                       "
     ]
    },
    {
     "name": "stdout",
     "output_type": "stream",
     "text": [
      "MoviePy - Done.\n"
     ]
    },
    {
     "name": "stderr",
     "output_type": "stream",
     "text": [
      "\r"
     ]
    }
   ],
   "source": [
    "# if you have a video file use the code below to convert it to mp3\n",
    "# we need to install moviepy  to convert the video to audio file \n",
    "!pip install moviepy\n",
    "\n",
    "import moviepy.editor as mp\n",
    "\n",
    "# Insert Local Video File Path \n",
    "clip = mp.VideoFileClip(r\"video_2.mkv\")\n",
    "  \n",
    "# Insert Local Audio File Path\n",
    "clip.audio.write_audiofile(r\"video_2.mp3\")"
   ]
  },
  {
   "cell_type": "code",
   "execution_count": 118,
   "metadata": {
    "jupyter": {
     "outputs_hidden": false
    }
   },
   "outputs": [],
   "source": [
    "filename='video_2.mp3'"
   ]
  },
  {
   "cell_type": "markdown",
   "metadata": {},
   "source": [
    "<p>We create the file object <code>wav</code> with the wav file using <code>open</code>. We set the <code>mode</code> to  \"rb\" ,  this is similar to read mode, but it ensures the file is in binary mode. We use the method <code>recognize</code> to return the recognized text. The parameter <code>audio</code> is the file object <code>wav</code>, the parameter <code>content_type</code> is the format of the audio file.</p>\n"
   ]
  },
  {
   "cell_type": "code",
   "execution_count": 119,
   "metadata": {
    "jupyter": {
     "outputs_hidden": false
    }
   },
   "outputs": [],
   "source": [
    "with open(filename, mode=\"rb\")  as wav:\n",
    "    response = s2t.recognize(audio=wav, content_type='audio/mp3')"
   ]
  },
  {
   "cell_type": "markdown",
   "metadata": {},
   "source": [
    "<p>The attribute result contains a dictionary that includes the translation:</p>\n"
   ]
  },
  {
   "cell_type": "code",
   "execution_count": 120,
   "metadata": {},
   "outputs": [
    {
     "data": {
      "text/plain": [
       "{'result_index': 0,\n",
       " 'results': [{'final': True,\n",
       "   'alternatives': [{'transcript': 'I think differently so what I put in your hair today is rich people concept so you can get to understand that the only difference between successful people to know is just how they think rich people think different ',\n",
       "     'confidence': 0.81}]},\n",
       "  {'final': True,\n",
       "   'alternatives': [{'transcript': \"quit letting people tell you you got to get qualified in another program you don't even know the program to be successful you need to change the way you think so here's the deal \",\n",
       "     'confidence': 0.73}]},\n",
       "  {'final': True,\n",
       "   'alternatives': [{'transcript': \"the problem with becoming a millionaire is there when you decide that you want to be a millionaire you immediately start thinking how can I become a millionaire well they don't just pop into your head so you get frustrated \",\n",
       "     'confidence': 0.91}]},\n",
       "  {'final': True,\n",
       "   'alternatives': [{'transcript': \"and you don't become a millionaire all soon as I put the hobble make a million you can think of how to make a million dollars \",\n",
       "     'confidence': 0.64}]},\n",
       "  {'final': True,\n",
       "   'alternatives': [{'transcript': 'stop do you ', 'confidence': 0.67}]},\n",
       "  {'final': True,\n",
       "   'alternatives': [{'transcript': \"you don't want to date Tuesday when you make about Friday \",\n",
       "     'confidence': 0.59}]},\n",
       "  {'final': True,\n",
       "   'alternatives': [{'transcript': 'I want to make it by Friday ',\n",
       "     'confidence': 0.5}]},\n",
       "  {'final': True,\n",
       "   'alternatives': [{'transcript': 'I was suppose I told you ',\n",
       "     'confidence': 0.88}]},\n",
       "  {'final': True,\n",
       "   'alternatives': [{'transcript': 'how you can become a millionaire with what you ',\n",
       "     'confidence': 0.83}]},\n",
       "  {'final': True,\n",
       "   'alternatives': [{'transcript': \"because here's the deal \",\n",
       "     'confidence': 0.95}]},\n",
       "  {'final': True,\n",
       "   'alternatives': [{'transcript': 'you hail everything to take to become rich ',\n",
       "     'confidence': 0.73}]},\n",
       "  {'final': True,\n",
       "   'alternatives': [{'transcript': \"you just don't believe \",\n",
       "     'confidence': 0.93}]},\n",
       "  {'final': True,\n",
       "   'alternatives': [{'transcript': \"yeah if you can develop your spirit I'm about to share with you I have the way for you to be rich \",\n",
       "     'confidence': 0.81}]},\n",
       "  {'final': True,\n",
       "   'alternatives': [{'transcript': 'this is it ', 'confidence': 0.82}]},\n",
       "  {'final': True,\n",
       "   'alternatives': [{'transcript': 'first of all and if you have a gift ',\n",
       "     'confidence': 0.98}]},\n",
       "  {'final': True,\n",
       "   'alternatives': [{'transcript': \"god gave it to you when you cringe god never created a single soul what I'll give and give \",\n",
       "     'confidence': 0.75}]},\n",
       "  {'final': True,\n",
       "   'alternatives': [{'transcript': \"that's the god who created you he's a very smart guy \",\n",
       "     'confidence': 0.63}]},\n",
       "  {'final': True,\n",
       "   'alternatives': [{'transcript': 'here call ', 'confidence': 0.21}]},\n",
       "  {'final': True,\n",
       "   'alternatives': [{'transcript': 'what emerges he put a gift inside ',\n",
       "     'confidence': 0.59}]},\n",
       "  {'final': True,\n",
       "   'alternatives': [{'transcript': \"he didn't hide it under the ocean today don't know mountain no where in a London rocks you we got to go drill god which what should lead inside of your birth all of you have a guilt but you have to do your guilt the thing god gave you at birth to do it is to think that you do absolute breast with the least amount of effort that she %HESITATION guilt anything else you don't want to waste your time \",\n",
       "     'confidence': 0.7}]},\n",
       "  {'final': True,\n",
       "   'alternatives': [{'transcript': 'do you wasting your time ',\n",
       "     'confidence': 0.68}]},\n",
       "  {'final': True,\n",
       "   'alternatives': [{'transcript': 'when the alarm clock goes off in the morning it makes you sick every morning got done a long ball is because you are doing your ',\n",
       "     'confidence': 0.81}]},\n",
       "  {'final': True,\n",
       "   'alternatives': [{'transcript': \"you're going against what god created to repeat \",\n",
       "     'confidence': 0.67}]},\n",
       "  {'final': True,\n",
       "   'alternatives': [{'transcript': 'do you do most of you know what your gift is ',\n",
       "     'confidence': 0.87}]},\n",
       "  {'final': True,\n",
       "   'alternatives': [{'transcript': \"what it doesn't know the gift yet okay let me tell you what you do go home today don't talk to nobody sit down have one conversation with Joe so what is the thing that I do the absolute best with the least amount of effort \",\n",
       "     'confidence': 0.78}]},\n",
       "  {'final': True,\n",
       "   'alternatives': [{'transcript': 'disabled take you ', 'confidence': 0.36}]},\n",
       "  {'final': True,\n",
       "   'alternatives': [{'transcript': 'the old enough you will write it down ',\n",
       "     'confidence': 0.63}]},\n",
       "  {'final': True,\n",
       "   'alternatives': [{'transcript': \"I don't care if it's networking I don't care if this baby sit I don't care if it's doing cold I don't care if this painting whatever it is this what you do saying whatever you do the best write it down does show guilt \",\n",
       "     'confidence': 0.67}]},\n",
       "  {'final': True,\n",
       "   'alternatives': [{'transcript': 'yeah I gotta go asking a bunch of people ',\n",
       "     'confidence': 0.7}]},\n",
       "  {'final': True,\n",
       "   'alternatives': [{'transcript': \"your whole life you don't \",\n",
       "     'confidence': 0.86}]},\n",
       "  {'final': True,\n",
       "   'alternatives': [{'transcript': 'people call you would take problems ',\n",
       "     'confidence': 0.9}]},\n",
       "  {'final': True,\n",
       "   'alternatives': [{'transcript': 'they always call you ',\n",
       "     'confidence': 0.98}]},\n",
       "  {'final': True,\n",
       "   'alternatives': [{'transcript': 'because you gifted at ',\n",
       "     'confidence': 0.38}]},\n",
       "  {'final': True,\n",
       "   'alternatives': [{'transcript': \"but you don't you don't know how to identify if you identify your view now let me ask you this question this thing to to give to that if you did it for somebody do you think somebody will pay you ten dollars for your \",\n",
       "     'confidence': 0.83}]},\n",
       "  {'final': True,\n",
       "   'alternatives': [{'transcript': 'just ten dollars ', 'confidence': 0.99}]},\n",
       "  {'final': True,\n",
       "   'alternatives': [{'transcript': \"could you baby sit for ten dollars could you cut somebody's turned on could you cut the grass for two dollars could you make a chicken dinner for ten dollars could you could you could you do something for ten dot everybody \",\n",
       "     'confidence': 0.74}]},\n",
       "  {'final': True,\n",
       "   'alternatives': [{'transcript': 'of something somebody will give you ten dollars for ',\n",
       "     'confidence': 0.84}]},\n",
       "  {'final': True,\n",
       "   'alternatives': [{'transcript': \"okay now once you have something that somebody's willing to pay you ten dollars full dishonest work is called the multiples of T. \",\n",
       "     'confidence': 0.73}]},\n",
       "  {'final': True,\n",
       "   'alternatives': [{'transcript': \"so you don't have to figure out how to be a millionaire you just got to figure out the thing that makes you ten dollars \",\n",
       "     'confidence': 0.83}]},\n",
       "  {'final': True,\n",
       "   'alternatives': [{'transcript': \"so now here we go you don't you make ten dollars so what do you do you go door to \",\n",
       "     'confidence': 0.69}]},\n",
       "  {'final': True,\n",
       "   'alternatives': [{'transcript': \"what in the world it's ten well done get another ticket you got a hundred dollars we got a hundred dollars whatever you do to make \",\n",
       "     'confidence': 0.56}]},\n",
       "  {'final': True,\n",
       "   'alternatives': [{'transcript': 'listen to me ', 'confidence': 0.47}]},\n",
       "  {'final': True,\n",
       "   'alternatives': [{'transcript': 'you gotta get tricky when it just do it ',\n",
       "     'confidence': 0.49}]},\n",
       "  {'final': True,\n",
       "   'alternatives': [{'transcript': 'you made a thousand dollars what do you do to make the ',\n",
       "     'confidence': 0.74}]},\n",
       "  {'final': True,\n",
       "   'alternatives': [{'transcript': \"don't just small stay stupid now do with ten mol time \",\n",
       "     'confidence': 0.6}]},\n",
       "  {'final': True,\n",
       "   'alternatives': [{'transcript': 'you have number ten thousand dollars hole No now the soon to grow a little bit but guess what you gotta do to grow you just gotta do some ',\n",
       "     'confidence': 0.7}]},\n",
       "  {'final': True,\n",
       "   'alternatives': [{'transcript': 'whatever you ', 'confidence': 0.93}]},\n",
       "  {'final': True,\n",
       "   'alternatives': [{'transcript': 'I need you to do want to ',\n",
       "     'confidence': 0.73}]},\n",
       "  {'final': True,\n",
       "   'alternatives': [{'transcript': 'want to trip and fall ',\n",
       "     'confidence': 0.6}]},\n",
       "  {'final': True,\n",
       "   'alternatives': [{'transcript': \"if you don't want to be called a hundred \",\n",
       "     'confidence': 0.69}]},\n",
       "  {'final': True,\n",
       "   'alternatives': [{'transcript': 'he was at the hospital to make this happen you got to figure that part out all you gotta do is do what you do for ten dollars once you make a hundred thousand dollars %HESITATION ',\n",
       "     'confidence': 0.83}]},\n",
       "  {'final': True,\n",
       "   'alternatives': [{'transcript': 'if you just do it ', 'confidence': 0.98}]},\n",
       "  {'final': True,\n",
       "   'alternatives': [{'transcript': 'mole ', 'confidence': 0.23}]}]}"
      ]
     },
     "execution_count": 120,
     "metadata": {},
     "output_type": "execute_result"
    }
   ],
   "source": [
    "response.result"
   ]
  },
  {
   "cell_type": "code",
   "execution_count": 123,
   "metadata": {},
   "outputs": [
    {
     "data": {
      "text/html": [
       "<div>\n",
       "<style scoped>\n",
       "    .dataframe tbody tr th:only-of-type {\n",
       "        vertical-align: middle;\n",
       "    }\n",
       "\n",
       "    .dataframe tbody tr th {\n",
       "        vertical-align: top;\n",
       "    }\n",
       "\n",
       "    .dataframe thead th {\n",
       "        text-align: right;\n",
       "    }\n",
       "</style>\n",
       "<table border=\"1\" class=\"dataframe\">\n",
       "  <thead>\n",
       "    <tr style=\"text-align: right;\">\n",
       "      <th></th>\n",
       "      <th>transcript</th>\n",
       "      <th>confidence</th>\n",
       "    </tr>\n",
       "  </thead>\n",
       "  <tbody>\n",
       "    <tr>\n",
       "      <th>0</th>\n",
       "      <td>I think differently so what I put in your hair...</td>\n",
       "      <td>0.81</td>\n",
       "    </tr>\n",
       "    <tr>\n",
       "      <th>1</th>\n",
       "      <td>quit letting people tell you you got to get qu...</td>\n",
       "      <td>0.73</td>\n",
       "    </tr>\n",
       "    <tr>\n",
       "      <th>2</th>\n",
       "      <td>the problem with becoming a millionaire is the...</td>\n",
       "      <td>0.91</td>\n",
       "    </tr>\n",
       "    <tr>\n",
       "      <th>3</th>\n",
       "      <td>and you don't become a millionaire all soon as...</td>\n",
       "      <td>0.64</td>\n",
       "    </tr>\n",
       "    <tr>\n",
       "      <th>4</th>\n",
       "      <td>stop do you</td>\n",
       "      <td>0.67</td>\n",
       "    </tr>\n",
       "    <tr>\n",
       "      <th>5</th>\n",
       "      <td>you don't want to date Tuesday when you make a...</td>\n",
       "      <td>0.59</td>\n",
       "    </tr>\n",
       "    <tr>\n",
       "      <th>6</th>\n",
       "      <td>I want to make it by Friday</td>\n",
       "      <td>0.50</td>\n",
       "    </tr>\n",
       "    <tr>\n",
       "      <th>7</th>\n",
       "      <td>I was suppose I told you</td>\n",
       "      <td>0.88</td>\n",
       "    </tr>\n",
       "    <tr>\n",
       "      <th>8</th>\n",
       "      <td>how you can become a millionaire with what you</td>\n",
       "      <td>0.83</td>\n",
       "    </tr>\n",
       "    <tr>\n",
       "      <th>9</th>\n",
       "      <td>because here's the deal</td>\n",
       "      <td>0.95</td>\n",
       "    </tr>\n",
       "    <tr>\n",
       "      <th>10</th>\n",
       "      <td>you hail everything to take to become rich</td>\n",
       "      <td>0.73</td>\n",
       "    </tr>\n",
       "    <tr>\n",
       "      <th>11</th>\n",
       "      <td>you just don't believe</td>\n",
       "      <td>0.93</td>\n",
       "    </tr>\n",
       "    <tr>\n",
       "      <th>12</th>\n",
       "      <td>yeah if you can develop your spirit I'm about ...</td>\n",
       "      <td>0.81</td>\n",
       "    </tr>\n",
       "    <tr>\n",
       "      <th>13</th>\n",
       "      <td>this is it</td>\n",
       "      <td>0.82</td>\n",
       "    </tr>\n",
       "    <tr>\n",
       "      <th>14</th>\n",
       "      <td>first of all and if you have a gift</td>\n",
       "      <td>0.98</td>\n",
       "    </tr>\n",
       "    <tr>\n",
       "      <th>15</th>\n",
       "      <td>god gave it to you when you cringe god never c...</td>\n",
       "      <td>0.75</td>\n",
       "    </tr>\n",
       "    <tr>\n",
       "      <th>16</th>\n",
       "      <td>that's the god who created you he's a very sma...</td>\n",
       "      <td>0.63</td>\n",
       "    </tr>\n",
       "    <tr>\n",
       "      <th>17</th>\n",
       "      <td>here call</td>\n",
       "      <td>0.21</td>\n",
       "    </tr>\n",
       "    <tr>\n",
       "      <th>18</th>\n",
       "      <td>what emerges he put a gift inside</td>\n",
       "      <td>0.59</td>\n",
       "    </tr>\n",
       "    <tr>\n",
       "      <th>19</th>\n",
       "      <td>he didn't hide it under the ocean today don't ...</td>\n",
       "      <td>0.70</td>\n",
       "    </tr>\n",
       "    <tr>\n",
       "      <th>20</th>\n",
       "      <td>do you wasting your time</td>\n",
       "      <td>0.68</td>\n",
       "    </tr>\n",
       "    <tr>\n",
       "      <th>21</th>\n",
       "      <td>when the alarm clock goes off in the morning i...</td>\n",
       "      <td>0.81</td>\n",
       "    </tr>\n",
       "    <tr>\n",
       "      <th>22</th>\n",
       "      <td>you're going against what god created to repeat</td>\n",
       "      <td>0.67</td>\n",
       "    </tr>\n",
       "    <tr>\n",
       "      <th>23</th>\n",
       "      <td>do you do most of you know what your gift is</td>\n",
       "      <td>0.87</td>\n",
       "    </tr>\n",
       "    <tr>\n",
       "      <th>24</th>\n",
       "      <td>what it doesn't know the gift yet okay let me ...</td>\n",
       "      <td>0.78</td>\n",
       "    </tr>\n",
       "    <tr>\n",
       "      <th>25</th>\n",
       "      <td>disabled take you</td>\n",
       "      <td>0.36</td>\n",
       "    </tr>\n",
       "    <tr>\n",
       "      <th>26</th>\n",
       "      <td>the old enough you will write it down</td>\n",
       "      <td>0.63</td>\n",
       "    </tr>\n",
       "    <tr>\n",
       "      <th>27</th>\n",
       "      <td>I don't care if it's networking I don't care i...</td>\n",
       "      <td>0.67</td>\n",
       "    </tr>\n",
       "    <tr>\n",
       "      <th>28</th>\n",
       "      <td>yeah I gotta go asking a bunch of people</td>\n",
       "      <td>0.70</td>\n",
       "    </tr>\n",
       "    <tr>\n",
       "      <th>29</th>\n",
       "      <td>your whole life you don't</td>\n",
       "      <td>0.86</td>\n",
       "    </tr>\n",
       "    <tr>\n",
       "      <th>30</th>\n",
       "      <td>people call you would take problems</td>\n",
       "      <td>0.90</td>\n",
       "    </tr>\n",
       "    <tr>\n",
       "      <th>31</th>\n",
       "      <td>they always call you</td>\n",
       "      <td>0.98</td>\n",
       "    </tr>\n",
       "    <tr>\n",
       "      <th>32</th>\n",
       "      <td>because you gifted at</td>\n",
       "      <td>0.38</td>\n",
       "    </tr>\n",
       "    <tr>\n",
       "      <th>33</th>\n",
       "      <td>but you don't you don't know how to identify i...</td>\n",
       "      <td>0.83</td>\n",
       "    </tr>\n",
       "    <tr>\n",
       "      <th>34</th>\n",
       "      <td>just ten dollars</td>\n",
       "      <td>0.99</td>\n",
       "    </tr>\n",
       "    <tr>\n",
       "      <th>35</th>\n",
       "      <td>could you baby sit for ten dollars could you c...</td>\n",
       "      <td>0.74</td>\n",
       "    </tr>\n",
       "    <tr>\n",
       "      <th>36</th>\n",
       "      <td>of something somebody will give you ten dollar...</td>\n",
       "      <td>0.84</td>\n",
       "    </tr>\n",
       "    <tr>\n",
       "      <th>37</th>\n",
       "      <td>okay now once you have something that somebody...</td>\n",
       "      <td>0.73</td>\n",
       "    </tr>\n",
       "    <tr>\n",
       "      <th>38</th>\n",
       "      <td>so you don't have to figure out how to be a mi...</td>\n",
       "      <td>0.83</td>\n",
       "    </tr>\n",
       "    <tr>\n",
       "      <th>39</th>\n",
       "      <td>so now here we go you don't you make ten dolla...</td>\n",
       "      <td>0.69</td>\n",
       "    </tr>\n",
       "    <tr>\n",
       "      <th>40</th>\n",
       "      <td>what in the world it's ten well done get anoth...</td>\n",
       "      <td>0.56</td>\n",
       "    </tr>\n",
       "    <tr>\n",
       "      <th>41</th>\n",
       "      <td>listen to me</td>\n",
       "      <td>0.47</td>\n",
       "    </tr>\n",
       "    <tr>\n",
       "      <th>42</th>\n",
       "      <td>you gotta get tricky when it just do it</td>\n",
       "      <td>0.49</td>\n",
       "    </tr>\n",
       "    <tr>\n",
       "      <th>43</th>\n",
       "      <td>you made a thousand dollars what do you do to ...</td>\n",
       "      <td>0.74</td>\n",
       "    </tr>\n",
       "    <tr>\n",
       "      <th>44</th>\n",
       "      <td>don't just small stay stupid now do with ten m...</td>\n",
       "      <td>0.60</td>\n",
       "    </tr>\n",
       "    <tr>\n",
       "      <th>45</th>\n",
       "      <td>you have number ten thousand dollars hole No n...</td>\n",
       "      <td>0.70</td>\n",
       "    </tr>\n",
       "    <tr>\n",
       "      <th>46</th>\n",
       "      <td>whatever you</td>\n",
       "      <td>0.93</td>\n",
       "    </tr>\n",
       "    <tr>\n",
       "      <th>47</th>\n",
       "      <td>I need you to do want to</td>\n",
       "      <td>0.73</td>\n",
       "    </tr>\n",
       "    <tr>\n",
       "      <th>48</th>\n",
       "      <td>want to trip and fall</td>\n",
       "      <td>0.60</td>\n",
       "    </tr>\n",
       "    <tr>\n",
       "      <th>49</th>\n",
       "      <td>if you don't want to be called a hundred</td>\n",
       "      <td>0.69</td>\n",
       "    </tr>\n",
       "    <tr>\n",
       "      <th>50</th>\n",
       "      <td>he was at the hospital to make this happen you...</td>\n",
       "      <td>0.83</td>\n",
       "    </tr>\n",
       "    <tr>\n",
       "      <th>51</th>\n",
       "      <td>if you just do it</td>\n",
       "      <td>0.98</td>\n",
       "    </tr>\n",
       "    <tr>\n",
       "      <th>52</th>\n",
       "      <td>mole</td>\n",
       "      <td>0.23</td>\n",
       "    </tr>\n",
       "  </tbody>\n",
       "</table>\n",
       "</div>"
      ],
      "text/plain": [
       "                                           transcript  confidence\n",
       "0   I think differently so what I put in your hair...        0.81\n",
       "1   quit letting people tell you you got to get qu...        0.73\n",
       "2   the problem with becoming a millionaire is the...        0.91\n",
       "3   and you don't become a millionaire all soon as...        0.64\n",
       "4                                        stop do you         0.67\n",
       "5   you don't want to date Tuesday when you make a...        0.59\n",
       "6                        I want to make it by Friday         0.50\n",
       "7                           I was suppose I told you         0.88\n",
       "8     how you can become a millionaire with what you         0.83\n",
       "9                            because here's the deal         0.95\n",
       "10        you hail everything to take to become rich         0.73\n",
       "11                            you just don't believe         0.93\n",
       "12  yeah if you can develop your spirit I'm about ...        0.81\n",
       "13                                        this is it         0.82\n",
       "14               first of all and if you have a gift         0.98\n",
       "15  god gave it to you when you cringe god never c...        0.75\n",
       "16  that's the god who created you he's a very sma...        0.63\n",
       "17                                         here call         0.21\n",
       "18                 what emerges he put a gift inside         0.59\n",
       "19  he didn't hide it under the ocean today don't ...        0.70\n",
       "20                          do you wasting your time         0.68\n",
       "21  when the alarm clock goes off in the morning i...        0.81\n",
       "22   you're going against what god created to repeat         0.67\n",
       "23      do you do most of you know what your gift is         0.87\n",
       "24  what it doesn't know the gift yet okay let me ...        0.78\n",
       "25                                 disabled take you         0.36\n",
       "26             the old enough you will write it down         0.63\n",
       "27  I don't care if it's networking I don't care i...        0.67\n",
       "28          yeah I gotta go asking a bunch of people         0.70\n",
       "29                         your whole life you don't         0.86\n",
       "30               people call you would take problems         0.90\n",
       "31                              they always call you         0.98\n",
       "32                             because you gifted at         0.38\n",
       "33  but you don't you don't know how to identify i...        0.83\n",
       "34                                  just ten dollars         0.99\n",
       "35  could you baby sit for ten dollars could you c...        0.74\n",
       "36  of something somebody will give you ten dollar...        0.84\n",
       "37  okay now once you have something that somebody...        0.73\n",
       "38  so you don't have to figure out how to be a mi...        0.83\n",
       "39  so now here we go you don't you make ten dolla...        0.69\n",
       "40  what in the world it's ten well done get anoth...        0.56\n",
       "41                                      listen to me         0.47\n",
       "42           you gotta get tricky when it just do it         0.49\n",
       "43  you made a thousand dollars what do you do to ...        0.74\n",
       "44  don't just small stay stupid now do with ten m...        0.60\n",
       "45  you have number ten thousand dollars hole No n...        0.70\n",
       "46                                      whatever you         0.93\n",
       "47                          I need you to do want to         0.73\n",
       "48                             want to trip and fall         0.60\n",
       "49          if you don't want to be called a hundred         0.69\n",
       "50  he was at the hospital to make this happen you...        0.83\n",
       "51                                 if you just do it         0.98\n",
       "52                                              mole         0.23"
      ]
     },
     "execution_count": 123,
     "metadata": {},
     "output_type": "execute_result"
    }
   ],
   "source": [
    "from pandas import json_normalize\n",
    "\n",
    "\n",
    "#response_data = json_normalize(response.result['results'],\"alternatives\")\n",
    "response_data = json_normalize(response.result['results'],\"alternatives\")\n",
    "response_data"
   ]
  },
  {
   "cell_type": "code",
   "execution_count": 124,
   "metadata": {},
   "outputs": [
    {
     "data": {
      "text/html": [
       "<div>\n",
       "<style scoped>\n",
       "    .dataframe tbody tr th:only-of-type {\n",
       "        vertical-align: middle;\n",
       "    }\n",
       "\n",
       "    .dataframe tbody tr th {\n",
       "        vertical-align: top;\n",
       "    }\n",
       "\n",
       "    .dataframe thead th {\n",
       "        text-align: right;\n",
       "    }\n",
       "</style>\n",
       "<table border=\"1\" class=\"dataframe\">\n",
       "  <thead>\n",
       "    <tr style=\"text-align: right;\">\n",
       "      <th></th>\n",
       "      <th>transcript</th>\n",
       "    </tr>\n",
       "  </thead>\n",
       "  <tbody>\n",
       "    <tr>\n",
       "      <th>0</th>\n",
       "      <td>I think differently so what I put in your hair...</td>\n",
       "    </tr>\n",
       "    <tr>\n",
       "      <th>1</th>\n",
       "      <td>quit letting people tell you you got to get qu...</td>\n",
       "    </tr>\n",
       "    <tr>\n",
       "      <th>2</th>\n",
       "      <td>the problem with becoming a millionaire is the...</td>\n",
       "    </tr>\n",
       "    <tr>\n",
       "      <th>3</th>\n",
       "      <td>and you don't become a millionaire all soon as...</td>\n",
       "    </tr>\n",
       "    <tr>\n",
       "      <th>4</th>\n",
       "      <td>stop do you</td>\n",
       "    </tr>\n",
       "    <tr>\n",
       "      <th>5</th>\n",
       "      <td>you don't want to date Tuesday when you make a...</td>\n",
       "    </tr>\n",
       "    <tr>\n",
       "      <th>6</th>\n",
       "      <td>I want to make it by Friday</td>\n",
       "    </tr>\n",
       "    <tr>\n",
       "      <th>7</th>\n",
       "      <td>I was suppose I told you</td>\n",
       "    </tr>\n",
       "    <tr>\n",
       "      <th>8</th>\n",
       "      <td>how you can become a millionaire with what you</td>\n",
       "    </tr>\n",
       "    <tr>\n",
       "      <th>9</th>\n",
       "      <td>because here's the deal</td>\n",
       "    </tr>\n",
       "    <tr>\n",
       "      <th>10</th>\n",
       "      <td>you hail everything to take to become rich</td>\n",
       "    </tr>\n",
       "    <tr>\n",
       "      <th>11</th>\n",
       "      <td>you just don't believe</td>\n",
       "    </tr>\n",
       "    <tr>\n",
       "      <th>12</th>\n",
       "      <td>yeah if you can develop your spirit I'm about ...</td>\n",
       "    </tr>\n",
       "    <tr>\n",
       "      <th>13</th>\n",
       "      <td>this is it</td>\n",
       "    </tr>\n",
       "    <tr>\n",
       "      <th>14</th>\n",
       "      <td>first of all and if you have a gift</td>\n",
       "    </tr>\n",
       "    <tr>\n",
       "      <th>15</th>\n",
       "      <td>god gave it to you when you cringe god never c...</td>\n",
       "    </tr>\n",
       "    <tr>\n",
       "      <th>16</th>\n",
       "      <td>that's the god who created you he's a very sma...</td>\n",
       "    </tr>\n",
       "    <tr>\n",
       "      <th>17</th>\n",
       "      <td>here call</td>\n",
       "    </tr>\n",
       "    <tr>\n",
       "      <th>18</th>\n",
       "      <td>what emerges he put a gift inside</td>\n",
       "    </tr>\n",
       "    <tr>\n",
       "      <th>19</th>\n",
       "      <td>he didn't hide it under the ocean today don't ...</td>\n",
       "    </tr>\n",
       "    <tr>\n",
       "      <th>20</th>\n",
       "      <td>do you wasting your time</td>\n",
       "    </tr>\n",
       "    <tr>\n",
       "      <th>21</th>\n",
       "      <td>when the alarm clock goes off in the morning i...</td>\n",
       "    </tr>\n",
       "    <tr>\n",
       "      <th>22</th>\n",
       "      <td>you're going against what god created to repeat</td>\n",
       "    </tr>\n",
       "    <tr>\n",
       "      <th>23</th>\n",
       "      <td>do you do most of you know what your gift is</td>\n",
       "    </tr>\n",
       "    <tr>\n",
       "      <th>24</th>\n",
       "      <td>what it doesn't know the gift yet okay let me ...</td>\n",
       "    </tr>\n",
       "    <tr>\n",
       "      <th>25</th>\n",
       "      <td>disabled take you</td>\n",
       "    </tr>\n",
       "    <tr>\n",
       "      <th>26</th>\n",
       "      <td>the old enough you will write it down</td>\n",
       "    </tr>\n",
       "    <tr>\n",
       "      <th>27</th>\n",
       "      <td>I don't care if it's networking I don't care i...</td>\n",
       "    </tr>\n",
       "    <tr>\n",
       "      <th>28</th>\n",
       "      <td>yeah I gotta go asking a bunch of people</td>\n",
       "    </tr>\n",
       "    <tr>\n",
       "      <th>29</th>\n",
       "      <td>your whole life you don't</td>\n",
       "    </tr>\n",
       "    <tr>\n",
       "      <th>30</th>\n",
       "      <td>people call you would take problems</td>\n",
       "    </tr>\n",
       "    <tr>\n",
       "      <th>31</th>\n",
       "      <td>they always call you</td>\n",
       "    </tr>\n",
       "    <tr>\n",
       "      <th>32</th>\n",
       "      <td>because you gifted at</td>\n",
       "    </tr>\n",
       "    <tr>\n",
       "      <th>33</th>\n",
       "      <td>but you don't you don't know how to identify i...</td>\n",
       "    </tr>\n",
       "    <tr>\n",
       "      <th>34</th>\n",
       "      <td>just ten dollars</td>\n",
       "    </tr>\n",
       "    <tr>\n",
       "      <th>35</th>\n",
       "      <td>could you baby sit for ten dollars could you c...</td>\n",
       "    </tr>\n",
       "    <tr>\n",
       "      <th>36</th>\n",
       "      <td>of something somebody will give you ten dollar...</td>\n",
       "    </tr>\n",
       "    <tr>\n",
       "      <th>37</th>\n",
       "      <td>okay now once you have something that somebody...</td>\n",
       "    </tr>\n",
       "    <tr>\n",
       "      <th>38</th>\n",
       "      <td>so you don't have to figure out how to be a mi...</td>\n",
       "    </tr>\n",
       "    <tr>\n",
       "      <th>39</th>\n",
       "      <td>so now here we go you don't you make ten dolla...</td>\n",
       "    </tr>\n",
       "    <tr>\n",
       "      <th>40</th>\n",
       "      <td>what in the world it's ten well done get anoth...</td>\n",
       "    </tr>\n",
       "    <tr>\n",
       "      <th>41</th>\n",
       "      <td>listen to me</td>\n",
       "    </tr>\n",
       "    <tr>\n",
       "      <th>42</th>\n",
       "      <td>you gotta get tricky when it just do it</td>\n",
       "    </tr>\n",
       "    <tr>\n",
       "      <th>43</th>\n",
       "      <td>you made a thousand dollars what do you do to ...</td>\n",
       "    </tr>\n",
       "    <tr>\n",
       "      <th>44</th>\n",
       "      <td>don't just small stay stupid now do with ten m...</td>\n",
       "    </tr>\n",
       "    <tr>\n",
       "      <th>45</th>\n",
       "      <td>you have number ten thousand dollars hole No n...</td>\n",
       "    </tr>\n",
       "    <tr>\n",
       "      <th>46</th>\n",
       "      <td>whatever you</td>\n",
       "    </tr>\n",
       "    <tr>\n",
       "      <th>47</th>\n",
       "      <td>I need you to do want to</td>\n",
       "    </tr>\n",
       "    <tr>\n",
       "      <th>48</th>\n",
       "      <td>want to trip and fall</td>\n",
       "    </tr>\n",
       "    <tr>\n",
       "      <th>49</th>\n",
       "      <td>if you don't want to be called a hundred</td>\n",
       "    </tr>\n",
       "    <tr>\n",
       "      <th>50</th>\n",
       "      <td>he was at the hospital to make this happen you...</td>\n",
       "    </tr>\n",
       "    <tr>\n",
       "      <th>51</th>\n",
       "      <td>if you just do it</td>\n",
       "    </tr>\n",
       "    <tr>\n",
       "      <th>52</th>\n",
       "      <td>mole</td>\n",
       "    </tr>\n",
       "  </tbody>\n",
       "</table>\n",
       "</div>"
      ],
      "text/plain": [
       "                                           transcript\n",
       "0   I think differently so what I put in your hair...\n",
       "1   quit letting people tell you you got to get qu...\n",
       "2   the problem with becoming a millionaire is the...\n",
       "3   and you don't become a millionaire all soon as...\n",
       "4                                        stop do you \n",
       "5   you don't want to date Tuesday when you make a...\n",
       "6                        I want to make it by Friday \n",
       "7                           I was suppose I told you \n",
       "8     how you can become a millionaire with what you \n",
       "9                            because here's the deal \n",
       "10        you hail everything to take to become rich \n",
       "11                            you just don't believe \n",
       "12  yeah if you can develop your spirit I'm about ...\n",
       "13                                        this is it \n",
       "14               first of all and if you have a gift \n",
       "15  god gave it to you when you cringe god never c...\n",
       "16  that's the god who created you he's a very sma...\n",
       "17                                         here call \n",
       "18                 what emerges he put a gift inside \n",
       "19  he didn't hide it under the ocean today don't ...\n",
       "20                          do you wasting your time \n",
       "21  when the alarm clock goes off in the morning i...\n",
       "22   you're going against what god created to repeat \n",
       "23      do you do most of you know what your gift is \n",
       "24  what it doesn't know the gift yet okay let me ...\n",
       "25                                 disabled take you \n",
       "26             the old enough you will write it down \n",
       "27  I don't care if it's networking I don't care i...\n",
       "28          yeah I gotta go asking a bunch of people \n",
       "29                         your whole life you don't \n",
       "30               people call you would take problems \n",
       "31                              they always call you \n",
       "32                             because you gifted at \n",
       "33  but you don't you don't know how to identify i...\n",
       "34                                  just ten dollars \n",
       "35  could you baby sit for ten dollars could you c...\n",
       "36  of something somebody will give you ten dollar...\n",
       "37  okay now once you have something that somebody...\n",
       "38  so you don't have to figure out how to be a mi...\n",
       "39  so now here we go you don't you make ten dolla...\n",
       "40  what in the world it's ten well done get anoth...\n",
       "41                                      listen to me \n",
       "42           you gotta get tricky when it just do it \n",
       "43  you made a thousand dollars what do you do to ...\n",
       "44  don't just small stay stupid now do with ten m...\n",
       "45  you have number ten thousand dollars hole No n...\n",
       "46                                      whatever you \n",
       "47                          I need you to do want to \n",
       "48                             want to trip and fall \n",
       "49          if you don't want to be called a hundred \n",
       "50  he was at the hospital to make this happen you...\n",
       "51                                 if you just do it \n",
       "52                                              mole "
      ]
     },
     "execution_count": 124,
     "metadata": {},
     "output_type": "execute_result"
    }
   ],
   "source": [
    "# remove the confidence row to feed only scripts for the translation\n",
    "del response_data['confidence']\n",
    "response_data"
   ]
  },
  {
   "cell_type": "code",
   "execution_count": 125,
   "metadata": {},
   "outputs": [
    {
     "data": {
      "text/plain": [
       "<ibm_cloud_sdk_core.detailed_response.DetailedResponse at 0x1a60e625730>"
      ]
     },
     "execution_count": 125,
     "metadata": {},
     "output_type": "execute_result"
    }
   ],
   "source": [
    "response"
   ]
  },
  {
   "cell_type": "markdown",
   "metadata": {},
   "source": [
    "<p>We can obtain the recognized text and assign it to the variable <code>recognized_text</code>:</p>\n"
   ]
  },
  {
   "cell_type": "code",
   "execution_count": 126,
   "metadata": {
    "jupyter": {
     "outputs_hidden": false
    }
   },
   "outputs": [
    {
     "data": {
      "text/plain": [
       "str"
      ]
     },
     "execution_count": 126,
     "metadata": {},
     "output_type": "execute_result"
    }
   ],
   "source": [
    "#recognized_text=response.result['results'][0][\"alternatives\"][0][\"transcript\"]\n",
    "recognized_text= str(response_data)\n",
    "type(recognized_text)"
   ]
  },
  {
   "cell_type": "markdown",
   "metadata": {},
   "source": [
    "<h2 id=\"ref1\">Language Translator</h2>\n"
   ]
  },
  {
   "cell_type": "markdown",
   "metadata": {},
   "source": [
    "<p>First we import <code>LanguageTranslatorV3</code> from ibm_watson. For more information on the API click <a href=\"https://cloud.ibm.com/apidocs/speech-to-text?utm_medium=Exinfluencer&utm_source=Exinfluencer&utm_content=000026UJ&utm_term=10006555&utm_id=NA-SkillsNetwork-Channel-SkillsNetworkCoursesIBMDeveloperSkillsNetworkPY0101ENSkillsNetwork19487395-2022-01-01&code=python\"> here</a></p>\n"
   ]
  },
  {
   "cell_type": "code",
   "execution_count": 127,
   "metadata": {},
   "outputs": [],
   "source": [
    "from ibm_watson import LanguageTranslatorV3"
   ]
  },
  {
   "cell_type": "markdown",
   "metadata": {},
   "source": [
    "<p>The service endpoint is based on the location of the service instance, we store the information in the variable URL. To find out which URL to use, view the service credentials.</p>\n"
   ]
  },
  {
   "cell_type": "code",
   "execution_count": 128,
   "metadata": {
    "jupyter": {
     "outputs_hidden": false
    }
   },
   "outputs": [],
   "source": [
    "url_lt=''"
   ]
  },
  {
   "cell_type": "markdown",
   "metadata": {},
   "source": [
    "<p>You require an API key, and you can obtain the key on the <a href=\"https://cloud.ibm.com/resources?utm_medium=Exinfluencer&utm_source=Exinfluencer&utm_content=000026UJ&utm_term=10006555&utm_id=NA-SkillsNetwork-Channel-SkillsNetworkCoursesIBMDeveloperSkillsNetworkPY0101ENSkillsNetwork19487395-2022-01-01\">Dashboard</a>.</p>\n"
   ]
  },
  {
   "cell_type": "code",
   "execution_count": 129,
   "metadata": {
    "jupyter": {
     "outputs_hidden": false
    }
   },
   "outputs": [],
   "source": [
    "apikey_lt=''"
   ]
  },
  {
   "cell_type": "markdown",
   "metadata": {},
   "source": [
    "<p>API requests require a version parameter that takes a date in the format version=YYYY-MM-DD. This lab describes the current version of Language Translator, 2018-05-01</p>\n"
   ]
  },
  {
   "cell_type": "code",
   "execution_count": 130,
   "metadata": {
    "jupyter": {
     "outputs_hidden": false
    }
   },
   "outputs": [],
   "source": [
    "version_lt='2018-05-01'"
   ]
  },
  {
   "cell_type": "markdown",
   "metadata": {},
   "source": [
    "<p>we create a  Language Translator object <code>language_translator</code>:</p>\n"
   ]
  },
  {
   "cell_type": "code",
   "execution_count": 131,
   "metadata": {
    "jupyter": {
     "outputs_hidden": false
    }
   },
   "outputs": [
    {
     "data": {
      "text/plain": [
       "<ibm_watson.language_translator_v3.LanguageTranslatorV3 at 0x1a6110ebc40>"
      ]
     },
     "execution_count": 131,
     "metadata": {},
     "output_type": "execute_result"
    }
   ],
   "source": [
    "authenticator = IAMAuthenticator(apikey_lt)\n",
    "language_translator = LanguageTranslatorV3(version=version_lt,authenticator=authenticator)\n",
    "language_translator.set_service_url(url_lt)\n",
    "language_translator"
   ]
  },
  {
   "cell_type": "markdown",
   "metadata": {},
   "source": [
    "<p>We can get a Lists the languages that the service can identify.\n",
    "The method Returns the language code.  For example English (en) to  Spanis (es) and name of each language.</p>\n"
   ]
  },
  {
   "cell_type": "code",
   "execution_count": 132,
   "metadata": {
    "jupyter": {
     "outputs_hidden": false
    }
   },
   "outputs": [
    {
     "data": {
      "text/html": [
       "<div>\n",
       "<style scoped>\n",
       "    .dataframe tbody tr th:only-of-type {\n",
       "        vertical-align: middle;\n",
       "    }\n",
       "\n",
       "    .dataframe tbody tr th {\n",
       "        vertical-align: top;\n",
       "    }\n",
       "\n",
       "    .dataframe thead th {\n",
       "        text-align: right;\n",
       "    }\n",
       "</style>\n",
       "<table border=\"1\" class=\"dataframe\">\n",
       "  <thead>\n",
       "    <tr style=\"text-align: right;\">\n",
       "      <th></th>\n",
       "      <th>language</th>\n",
       "      <th>name</th>\n",
       "    </tr>\n",
       "  </thead>\n",
       "  <tbody>\n",
       "    <tr>\n",
       "      <th>0</th>\n",
       "      <td>af</td>\n",
       "      <td>Afrikaans</td>\n",
       "    </tr>\n",
       "    <tr>\n",
       "      <th>1</th>\n",
       "      <td>ar</td>\n",
       "      <td>Arabic</td>\n",
       "    </tr>\n",
       "    <tr>\n",
       "      <th>2</th>\n",
       "      <td>az</td>\n",
       "      <td>Azerbaijani</td>\n",
       "    </tr>\n",
       "    <tr>\n",
       "      <th>3</th>\n",
       "      <td>ba</td>\n",
       "      <td>Bashkir</td>\n",
       "    </tr>\n",
       "    <tr>\n",
       "      <th>4</th>\n",
       "      <td>be</td>\n",
       "      <td>Belarusian</td>\n",
       "    </tr>\n",
       "    <tr>\n",
       "      <th>...</th>\n",
       "      <td>...</td>\n",
       "      <td>...</td>\n",
       "    </tr>\n",
       "    <tr>\n",
       "      <th>71</th>\n",
       "      <td>uk</td>\n",
       "      <td>Ukrainian</td>\n",
       "    </tr>\n",
       "    <tr>\n",
       "      <th>72</th>\n",
       "      <td>ur</td>\n",
       "      <td>Urdu</td>\n",
       "    </tr>\n",
       "    <tr>\n",
       "      <th>73</th>\n",
       "      <td>vi</td>\n",
       "      <td>Vietnamese</td>\n",
       "    </tr>\n",
       "    <tr>\n",
       "      <th>74</th>\n",
       "      <td>zh</td>\n",
       "      <td>Simplified Chinese</td>\n",
       "    </tr>\n",
       "    <tr>\n",
       "      <th>75</th>\n",
       "      <td>zh-TW</td>\n",
       "      <td>Traditional Chinese</td>\n",
       "    </tr>\n",
       "  </tbody>\n",
       "</table>\n",
       "<p>76 rows × 2 columns</p>\n",
       "</div>"
      ],
      "text/plain": [
       "   language                 name\n",
       "0        af            Afrikaans\n",
       "1        ar               Arabic\n",
       "2        az          Azerbaijani\n",
       "3        ba              Bashkir\n",
       "4        be           Belarusian\n",
       "..      ...                  ...\n",
       "71       uk            Ukrainian\n",
       "72       ur                 Urdu\n",
       "73       vi           Vietnamese\n",
       "74       zh   Simplified Chinese\n",
       "75    zh-TW  Traditional Chinese\n",
       "\n",
       "[76 rows x 2 columns]"
      ]
     },
     "execution_count": 132,
     "metadata": {},
     "output_type": "execute_result"
    }
   ],
   "source": [
    "from pandas import json_normalize\n",
    "\n",
    "json_normalize(language_translator.list_identifiable_languages().get_result(), \"languages\")"
   ]
  },
  {
   "cell_type": "markdown",
   "metadata": {},
   "source": [
    "<p>We can use the method <code>translate</code>. This will translate the text. The parameter text is the text, Model_id is the type of model we would like to use use we use list the language. In this case, we set it to 'en-es' or English to Spanish. We get a Detailed Response object translation_response</p>\n"
   ]
  },
  {
   "cell_type": "code",
   "execution_count": 135,
   "metadata": {
    "jupyter": {
     "outputs_hidden": false
    }
   },
   "outputs": [
    {
     "data": {
      "text/plain": [
       "<ibm_cloud_sdk_core.detailed_response.DetailedResponse at 0x1a60eeed550>"
      ]
     },
     "execution_count": 135,
     "metadata": {},
     "output_type": "execute_result"
    }
   ],
   "source": [
    "translation_response = language_translator.translate(\\\n",
    "     text=recognized_text, model_id='en-ar')\n",
    "    #text=recognized_text, model_id='en-es')\n",
    "    #text=recognized_text, model_id='en-it')\n",
    "    #text=recognized_text, model_id='en-uk')\n",
    "    #text=recognized_text, model_id='en-tu')\n",
    "translation_response"
   ]
  },
  {
   "cell_type": "markdown",
   "metadata": {},
   "source": [
    "<p>The result is a dictionary.</p>\n"
   ]
  },
  {
   "cell_type": "code",
   "execution_count": 136,
   "metadata": {
    "jupyter": {
     "outputs_hidden": false
    }
   },
   "outputs": [
    {
     "data": {
      "text/plain": [
       "{'translations': [{'translation': '                                           نص النسخة 0 للتفكير بطريقة مختلفة بحيث ما وضعته في شعرك ...\\n1 ترك ترك الناس اقول لك انك حصلت على الحصول على تشو ...\\n2 المشكلة بأن تصبح مليونيرا هو ...\\n3 وأنت لا تصبح مليونيرا كل قريبا ك ...\\n4 توقف لك 5 أنت لا تريد إلى تاريخ الثلاثاء عندما تجعل a ...\\n6 أنا أريد أن أجعل من يوم الجمعة 7 أعتقد أنني قلت لك 8 كيف يمكنك أن تصبح مليونيرا مع ما كنت 9 لأنه هنا الصفقة 10 سنحيي كل شيء لتأخذ لتصبح 11 الغنية أنت فقط لا أعتقد 12 نعم إذا كنت تستطيع تطوير روحك أنا عن ...\\nثلاثة عشر هذا هو 14 الأول من كل شيء وإذا كان لديك هدية 15 الله أعطاه لك عندما كنت الهامشية إله أبدا لا ...\\n16 هذا هو الإله الذي خلق لك انه هو sma جدا ...\\n17 هنا يدعو 18 الذي يظهر هو وضع a هدية داخل 19 هو لم يخفيه تحت المحيط اليوم لا ...\\n20 هل تضيع وقتك 21 عندما المنبه تذهب قبالة في الصباح أنا ...\\n22 أنت ذاهب ضد ما خلق الله لتكرار 23 هل معظم من تعلمون ما هي هديتك هو 24 ما هو لا يعرف هدية حتى الآن حسنا اسمحوا لي ...\\n25 معاق يأخذك 26 من العمر بما فيه الكفاية أنت ستكتبه 27 أنا لا أهتم إذا هو شبكة تواصل أنا لا أهتم i ...\\n28 نعم يجب أن أسأل مجموعة من الناس عمرك 29 حياتك كلها لا تتصل 30 شخصا يتصدون بالمشاكل 31 يسمونك 32 دائما لأنك موهوبة في 33 ولكنك لا تعرفين كيف يمكنك التعرف علي\\n... 34 فقط 10 دولار 35 هل يمكنك أن تجلسي لعشرة دولارات هل يمكنك\\n36 من شيء شخص ما سيعطيك عشرة دولارات ...\\n37 موافقة الآن عندما يكون لديك شيء أن شخص ما ...\\n38 لذا لم يكن لديك لمعرفة كيفية تكون _ مي ...\\n39 لذا الآن هنا نذهب أنت لا تجعل عشرة دولار ...\\n40 ماذا في العالم هو عشرة أحسنت الحصول على انوت ...\\n41 تستمع لي 42 أنت gotta يصبح صعب عندما هو فقط يعمله 43 جعلت a ألف دولار ماذا تعمل ل ...\\n44 لا مجرد البقاء قليلا غبي الآن مع عشرة أمتار ...\\n45 لديك ثقب بعشرة آلاف دولار ... لا يوجد\\n46 مهما أنت 47 أريدك أن تريد إلى 48 تريد سفرة وتهبط 49 إذا أنت لا تريد لكي يكون دعا a مائة 50 هو كان في المستشفى لجعل هذا يحدث أنت ...\\n51 إذا كنت فقط تفعل ذلك 52 حيوان الخلد '}],\n",
       " 'word_count': 492,\n",
       " 'character_count': 2915}"
      ]
     },
     "execution_count": 136,
     "metadata": {},
     "output_type": "execute_result"
    }
   ],
   "source": [
    "translation=translation_response.get_result()\n",
    "translation"
   ]
  },
  {
   "cell_type": "markdown",
   "metadata": {},
   "source": [
    "<p>We can obtain the actual translation as a string as follows:</p>\n"
   ]
  },
  {
   "cell_type": "code",
   "execution_count": 137,
   "metadata": {},
   "outputs": [
    {
     "data": {
      "text/plain": [
       "'                                           نص النسخة 0 للتفكير بطريقة مختلفة بحيث ما وضعته في شعرك ...\\n1 ترك ترك الناس اقول لك انك حصلت على الحصول على تشو ...\\n2 المشكلة بأن تصبح مليونيرا هو ...\\n3 وأنت لا تصبح مليونيرا كل قريبا ك ...\\n4 توقف لك 5 أنت لا تريد إلى تاريخ الثلاثاء عندما تجعل a ...\\n6 أنا أريد أن أجعل من يوم الجمعة 7 أعتقد أنني قلت لك 8 كيف يمكنك أن تصبح مليونيرا مع ما كنت 9 لأنه هنا الصفقة 10 سنحيي كل شيء لتأخذ لتصبح 11 الغنية أنت فقط لا أعتقد 12 نعم إذا كنت تستطيع تطوير روحك أنا عن ...\\nثلاثة عشر هذا هو 14 الأول من كل شيء وإذا كان لديك هدية 15 الله أعطاه لك عندما كنت الهامشية إله أبدا لا ...\\n16 هذا هو الإله الذي خلق لك انه هو sma جدا ...\\n17 هنا يدعو 18 الذي يظهر هو وضع a هدية داخل 19 هو لم يخفيه تحت المحيط اليوم لا ...\\n20 هل تضيع وقتك 21 عندما المنبه تذهب قبالة في الصباح أنا ...\\n22 أنت ذاهب ضد ما خلق الله لتكرار 23 هل معظم من تعلمون ما هي هديتك هو 24 ما هو لا يعرف هدية حتى الآن حسنا اسمحوا لي ...\\n25 معاق يأخذك 26 من العمر بما فيه الكفاية أنت ستكتبه 27 أنا لا أهتم إذا هو شبكة تواصل أنا لا أهتم i ...\\n28 نعم يجب أن أسأل مجموعة من الناس عمرك 29 حياتك كلها لا تتصل 30 شخصا يتصدون بالمشاكل 31 يسمونك 32 دائما لأنك موهوبة في 33 ولكنك لا تعرفين كيف يمكنك التعرف علي\\n... 34 فقط 10 دولار 35 هل يمكنك أن تجلسي لعشرة دولارات هل يمكنك\\n36 من شيء شخص ما سيعطيك عشرة دولارات ...\\n37 موافقة الآن عندما يكون لديك شيء أن شخص ما ...\\n38 لذا لم يكن لديك لمعرفة كيفية تكون _ مي ...\\n39 لذا الآن هنا نذهب أنت لا تجعل عشرة دولار ...\\n40 ماذا في العالم هو عشرة أحسنت الحصول على انوت ...\\n41 تستمع لي 42 أنت gotta يصبح صعب عندما هو فقط يعمله 43 جعلت a ألف دولار ماذا تعمل ل ...\\n44 لا مجرد البقاء قليلا غبي الآن مع عشرة أمتار ...\\n45 لديك ثقب بعشرة آلاف دولار ... لا يوجد\\n46 مهما أنت 47 أريدك أن تريد إلى 48 تريد سفرة وتهبط 49 إذا أنت لا تريد لكي يكون دعا a مائة 50 هو كان في المستشفى لجعل هذا يحدث أنت ...\\n51 إذا كنت فقط تفعل ذلك 52 حيوان الخلد '"
      ]
     },
     "execution_count": 137,
     "metadata": {},
     "output_type": "execute_result"
    }
   ],
   "source": [
    "#spanish_translation =translation['translations'][0]['translation']\n",
    "#spanish_translation \n",
    "arabic_translation =translation['translations'][0]['translation']\n",
    "arabic_translation"
   ]
  },
  {
   "cell_type": "markdown",
   "metadata": {},
   "source": [
    "<p>We can translate back to English</p>\n"
   ]
  },
  {
   "cell_type": "code",
   "execution_count": 138,
   "metadata": {},
   "outputs": [],
   "source": [
    "# translation_new = language_translator.translate(text=spanish_translation ,model_id='es-en').get_result()\n",
    "translation_new = language_translator.translate(text=arabic_translation ,model_id='ar-en').get_result()"
   ]
  },
  {
   "cell_type": "markdown",
   "metadata": {},
   "source": [
    "<p>We can obtain the actual translation as a string as follows:</p>\n"
   ]
  },
  {
   "cell_type": "code",
   "execution_count": 139,
   "metadata": {},
   "outputs": [
    {
     "data": {
      "text/plain": [
       "\"                                           The version 0 text to think differently so that you put it in your hair ...\\nI let people tell you that you got to get Zhu ...\\nThe problem of becoming a millionaire is ...\\n3 and you don't become a millionaire all soon as ...\\n4 Stop you 5 you don't want to date Tuesday when you make a ...\\n6 I want to make 7 on Friday I thought I told you 8 how you could become a millionaire with what I was 9 because here's the deal 10 we'll pay everything to get 11 rich you just don't think 12 yes if you can develop your soul I'm about ... 13 this is 14 first of all and if you have a gift 15 God gave it to you when you were the Marginal God never ...\\n16 This is the God who created you he is so sma ...\\n17 here calling 18 who shows is putting a present inside 19 he didn't hide it under the ocean today no ...\\n20 Do you waste your time 21 when the alarm goes off in the morning I'm ...\\n22 you're going against what God has created to repeat 23 does most of you know what your gift is 24 what it doesn't know a gift so far ok let me ...\\n25 handicapped people take you 26 years old enough you'll write it 27 I don't care if it's a network I don't care i ...\\n28 Yes I have to ask a group of people your 29 lives don't call 30 people dealing with problems 31 They call you 32 always because you are talented at 33, but you don't know how to identify me. 34 Just 10 $35. Can you sit down for ten dollars? Can you 36 of something someone will give you ten dollars ...\\n37 approval now when you have something that someone ...\\n38 so you don't have to figure out how to be me ...\\n39 so now here we go you don't make ten dollars ...\\n40 what in the world is ten well done getting Ant ...\\n41 you listen to me 42 you gotta get hard when it just does it 43 I made a thousand dollars what do you do for ...\\n44 don't just stay a little stupid now with ten meters ...\\n45 You have a $10,000 hole ... no 46 no matter you 47 I want you to want to 48 you want to travel and land 49 if you don't want to be called a hundred fifty he was in the hospital to make this happen you ...\\n51 if you just do that 52 mole. \""
      ]
     },
     "execution_count": 139,
     "metadata": {},
     "output_type": "execute_result"
    }
   ],
   "source": [
    "#translation_eng=translation_new['translations'][0]['translation']\n",
    "#translation_eng\n",
    "\n",
    "translation_eng=translation_new['translations'][0]['translation']\n",
    "translation_eng"
   ]
  },
  {
   "cell_type": "markdown",
   "metadata": {},
   "source": [
    "<br>\n"
   ]
  },
  {
   "cell_type": "markdown",
   "metadata": {},
   "source": [
    "<h2>Quiz</h2>\n"
   ]
  },
  {
   "cell_type": "markdown",
   "metadata": {},
   "source": [
    "Translate to French.\n"
   ]
  },
  {
   "cell_type": "code",
   "execution_count": 78,
   "metadata": {},
   "outputs": [
    {
     "data": {
      "text/plain": [
       "{'translations': [{'translation': 'Dans cette vidéo, nous couvrons la régression polynomiale et les pipelines '}],\n",
       " 'word_count': 10,\n",
       " 'character_count': 64}"
      ]
     },
     "execution_count": 78,
     "metadata": {},
     "output_type": "execute_result"
    }
   ],
   "source": [
    "# Write your code below and press Shift+Enter to execute\n",
    "translation_response = language_translator.translate(\\\n",
    "     text=recognized_text, model_id='en-fr')\n",
    "translation_response\n",
    "\n",
    "translation=translation_response.get_result()\n",
    "translation\n"
   ]
  },
  {
   "cell_type": "markdown",
   "metadata": {},
   "source": [
    "<details><summary>Click here for the solution</summary>\n",
    "\n",
    "```python\n",
    "French_translation=language_translator.translate(\n",
    "    text=translation_eng , model_id='en-fr').get_result()\n",
    "\n",
    "French_translation['translations'][0]['translation']\n",
    "\n",
    "```\n",
    "\n",
    "</details>\n"
   ]
  },
  {
   "cell_type": "markdown",
   "metadata": {},
   "source": [
    "<h3>Language Translator</h3>\n"
   ]
  },
  {
   "cell_type": "markdown",
   "metadata": {},
   "source": [
    "<b>References</b>\n"
   ]
  },
  {
   "cell_type": "markdown",
   "metadata": {},
   "source": [
    "[https://cloud.ibm.com/apidocs/speech-to-text?code=python](https://cloud.ibm.com/apidocs/speech-to-text?utm_medium=Exinfluencer&utm_source=Exinfluencer&utm_content=000026UJ&utm_term=10006555&utm_id=NA-SkillsNetwork-Channel-SkillsNetworkCoursesIBMDeveloperSkillsNetworkPY0101ENSkillsNetwork19487395-2022-01-01&code=python)\n"
   ]
  },
  {
   "cell_type": "markdown",
   "metadata": {},
   "source": [
    "[https://cloud.ibm.com/apidocs/language-translator?code=python](https://cloud.ibm.com/apidocs/language-translator?utm_medium=Exinfluencer&utm_source=Exinfluencer&utm_content=000026UJ&utm_term=10006555&utm_id=NA-SkillsNetwork-Channel-SkillsNetworkCoursesIBMDeveloperSkillsNetworkPY0101ENSkillsNetwork19487395-2022-01-01&code=python)\n"
   ]
  },
  {
   "cell_type": "markdown",
   "metadata": {},
   "source": [
    "<hr>\n"
   ]
  },
  {
   "cell_type": "markdown",
   "metadata": {},
   "source": [
    "## Authors:\n",
    "\n",
    "[Joseph Santarcangelo](https://www.linkedin.com/in/joseph-s-50398b136/?utm_medium=Exinfluencer&utm_source=Exinfluencer&utm_content=000026UJ&utm_term=10006555&utm_id=NA-SkillsNetwork-Channel-SkillsNetworkCoursesIBMDeveloperSkillsNetworkPY0101ENSkillsNetwork19487395-2022-01-01)\n",
    "\n",
    "Joseph Santarcangelo has a PhD in Electrical Engineering, his research focused on using machine learning, signal processing, and computer vision to determine how videos impact human cognition. Joseph has been working for IBM since he completed his PhD.\n",
    "\n",
    "## Other Contributor(s)\n",
    "\n",
    "<a href=\"https://www.linkedin.com/in/fanjiang0619/?utm_medium=Exinfluencer&utm_source=Exinfluencer&utm_content=000026UJ&utm_term=10006555&utm_id=NA-SkillsNetwork-Channel-SkillsNetworkCoursesIBMDeveloperSkillsNetworkPY0101ENSkillsNetwork19487395-2022-01-01\">Fan Jiang</a>\n",
    "\n",
    "## Change Log\n",
    "\n",
    "| Date (YYYY-MM-DD) | Version | Changed By | Change Description                 |\n",
    "| ----------------- | ------- | ---------- | ---------------------------------- |\n",
    "| 2021-04-07        | 2.2     | Malika     | Updated the libraries              |\n",
    "| 2021-01-05        | 2.1     | Malika     | Added a library                    |\n",
    "| 2020-08-26        | 2.0     | Lavanya    | Moved lab to course repo in GitLab |\n",
    "|                   |         |            |                                    |\n",
    "|                   |         |            |                                    |\n",
    "\n",
    "<hr/>\n",
    "\n",
    "## <h3 align=\"center\"> © IBM Corporation 2020. All rights reserved. <h3/>\n"
   ]
  }
 ],
 "metadata": {
  "kernelspec": {
   "display_name": "Python 3 (ipykernel)",
   "language": "python",
   "name": "python3"
  },
  "language_info": {
   "codemirror_mode": {
    "name": "ipython",
    "version": 3
   },
   "file_extension": ".py",
   "mimetype": "text/x-python",
   "name": "python",
   "nbconvert_exporter": "python",
   "pygments_lexer": "ipython3",
   "version": "3.9.12"
  }
 },
 "nbformat": 4,
 "nbformat_minor": 4
}
